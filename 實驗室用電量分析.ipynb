{
 "cells": [
  {
   "cell_type": "markdown",
   "metadata": {},
   "source": [
    "# 實驗室用電量分析\n",
    "此資料從[臺灣大學物理學系實驗室用電資訊系統](http://140.112.102.175/ROOM/)取得資料  \n",
    "利用Google App Script存取以上資訊到Google 表單([物理系日用電量記錄](https://docs.google.com/spreadsheets/d/1W3cgl7a3uFGCMt4ckQ0q7GQBxi1_BYEw7gUk-MqID-M/edit?usp=sharing))  \n",
    "記錄自**2018/04/14**日起至**2019/02/24**日止  \n",
    "共記錄**R715**室、**R619**室、**B113s**室之用電資訊  "
   ]
  },
  {
   "cell_type": "code",
   "execution_count": 1,
   "metadata": {
    "collapsed": false,
    "inputHidden": false,
    "outputHidden": false
   },
   "outputs": [],
   "source": [
    "import pandas as pd\n",
    "filename='~\\\\實驗室用電量分析\\\\Data\\\\實驗室用電量2019-02-25.csv'\n",
    "df = pd.read_csv(filename, sep=',', engine=\"python\") \n",
    "# engine 不使用 python，將會有錯誤產生，推測與中文路徑或名稱有關"
   ]
  },
  {
   "cell_type": "markdown",
   "metadata": {},
   "source": [
    "### 先看資料形式\n",
    "有5列資訊：\n",
    "- **Timestamps** (時間戳記)\n",
    "- **R715**、**R619**、**B113s** (三個地點用電量)\n",
    "- **Date**(當天日期)"
   ]
  },
  {
   "cell_type": "code",
   "execution_count": 2,
   "metadata": {
    "collapsed": false,
    "inputHidden": false,
    "outputHidden": false
   },
   "outputs": [
    {
     "data": {
      "text/html": [
       "<div>\n",
       "<style scoped>\n",
       "    .dataframe tbody tr th:only-of-type {\n",
       "        vertical-align: middle;\n",
       "    }\n",
       "\n",
       "    .dataframe tbody tr th {\n",
       "        vertical-align: top;\n",
       "    }\n",
       "\n",
       "    .dataframe thead th {\n",
       "        text-align: right;\n",
       "    }\n",
       "</style>\n",
       "<table border=\"1\" class=\"dataframe\">\n",
       "  <thead>\n",
       "    <tr style=\"text-align: right;\">\n",
       "      <th></th>\n",
       "      <th>Timestamps</th>\n",
       "      <th>R715</th>\n",
       "      <th>R619</th>\n",
       "      <th>B113s</th>\n",
       "      <th>Date</th>\n",
       "    </tr>\n",
       "  </thead>\n",
       "  <tbody>\n",
       "    <tr>\n",
       "      <th>1</th>\n",
       "      <td>2018-04-14 1:54</td>\n",
       "      <td>3.64</td>\n",
       "      <td>6.04</td>\n",
       "      <td>1.93</td>\n",
       "      <td>2018/04/14</td>\n",
       "    </tr>\n",
       "    <tr>\n",
       "      <th>2</th>\n",
       "      <td>2018-04-14 2:54</td>\n",
       "      <td>5.53</td>\n",
       "      <td>8.76</td>\n",
       "      <td>2.9</td>\n",
       "      <td>2018/04/14</td>\n",
       "    </tr>\n",
       "    <tr>\n",
       "      <th>3</th>\n",
       "      <td>2018-04-14 3:54</td>\n",
       "      <td>7.3</td>\n",
       "      <td>11.46</td>\n",
       "      <td>3.87</td>\n",
       "      <td>2018/04/14</td>\n",
       "    </tr>\n",
       "    <tr>\n",
       "      <th>4</th>\n",
       "      <td>2018-04-14 4:54</td>\n",
       "      <td>9.13</td>\n",
       "      <td>14.86</td>\n",
       "      <td>4.85</td>\n",
       "      <td>2018/04/14</td>\n",
       "    </tr>\n",
       "    <tr>\n",
       "      <th>5</th>\n",
       "      <td>2018-04-14 5:54</td>\n",
       "      <td>10.98</td>\n",
       "      <td>17.63</td>\n",
       "      <td>5.82</td>\n",
       "      <td>2018/04/14</td>\n",
       "    </tr>\n",
       "    <tr>\n",
       "      <th>6</th>\n",
       "      <td>2018-04-14 6:54</td>\n",
       "      <td>12.57</td>\n",
       "      <td>20.36</td>\n",
       "      <td>6.79</td>\n",
       "      <td>2018/04/14</td>\n",
       "    </tr>\n",
       "    <tr>\n",
       "      <th>7</th>\n",
       "      <td>2018-04-14 7:54</td>\n",
       "      <td>14.39</td>\n",
       "      <td>23.39</td>\n",
       "      <td>7.76</td>\n",
       "      <td>2018/04/14</td>\n",
       "    </tr>\n",
       "    <tr>\n",
       "      <th>8</th>\n",
       "      <td>2018-04-14 8:54</td>\n",
       "      <td>15.93</td>\n",
       "      <td>26.55</td>\n",
       "      <td>8.72</td>\n",
       "      <td>2018/04/14</td>\n",
       "    </tr>\n",
       "    <tr>\n",
       "      <th>9</th>\n",
       "      <td>2018-04-14 9:54</td>\n",
       "      <td>18.54</td>\n",
       "      <td>29.3</td>\n",
       "      <td>9.71</td>\n",
       "      <td>2018/04/14</td>\n",
       "    </tr>\n",
       "  </tbody>\n",
       "</table>\n",
       "</div>"
      ],
      "text/plain": [
       "        Timestamps   R715   R619 B113s        Date\n",
       "1  2018-04-14 1:54   3.64   6.04  1.93  2018/04/14\n",
       "2  2018-04-14 2:54   5.53   8.76   2.9  2018/04/14\n",
       "3  2018-04-14 3:54    7.3  11.46  3.87  2018/04/14\n",
       "4  2018-04-14 4:54   9.13  14.86  4.85  2018/04/14\n",
       "5  2018-04-14 5:54  10.98  17.63  5.82  2018/04/14\n",
       "6  2018-04-14 6:54  12.57  20.36  6.79  2018/04/14\n",
       "7  2018-04-14 7:54  14.39  23.39  7.76  2018/04/14\n",
       "8  2018-04-14 8:54  15.93  26.55  8.72  2018/04/14\n",
       "9  2018-04-14 9:54  18.54   29.3  9.71  2018/04/14"
      ]
     },
     "execution_count": 2,
     "metadata": {},
     "output_type": "execute_result"
    }
   ],
   "source": [
    "df[1:10]"
   ]
  },
  {
   "cell_type": "markdown",
   "metadata": {},
   "source": [
    "### 取出每天同樣時間\n",
    "考慮之後會分析每天同樣時間用電量資訊  \n",
    "在此由 **Timestamps** 取出每天同樣時間的 Index"
   ]
  },
  {
   "cell_type": "code",
   "execution_count": 3,
   "metadata": {},
   "outputs": [],
   "source": [
    "Time = df[\"Timestamps\"].str.split(' ',expand = True)[1]\n",
    "df[\"Time\"] = Time"
   ]
  },
  {
   "cell_type": "markdown",
   "metadata": {},
   "source": [
    "### 驗證確實有取出想要的 Index"
   ]
  },
  {
   "cell_type": "code",
   "execution_count": 4,
   "metadata": {},
   "outputs": [
    {
     "data": {
      "text/plain": [
       "25     2018-04-15 0:54\n",
       "50     2018-04-16 0:54\n",
       "75     2018-04-17 0:54\n",
       "99     2018-04-18 0:54\n",
       "123    2018-04-19 0:54\n",
       "147    2018-04-20 0:54\n",
       "171    2018-04-21 0:54\n",
       "195    2018-04-22 0:54\n",
       "219    2018-04-23 0:54\n",
       "Name: Timestamps, dtype: object"
      ]
     },
     "execution_count": 4,
     "metadata": {},
     "output_type": "execute_result"
    }
   ],
   "source": [
    "index_1 = df.Time[df.Time==\"0:54\"].index\n",
    "df.Timestamps[index_1][1:10]"
   ]
  },
  {
   "cell_type": "code",
   "execution_count": null,
   "metadata": {},
   "outputs": [],
   "source": []
  }
 ],
 "metadata": {
  "kernel_info": {
   "name": "python3"
  },
  "kernelspec": {
   "display_name": "Python 3",
   "language": "python",
   "name": "python3"
  },
  "language_info": {
   "codemirror_mode": {
    "name": "ipython",
    "version": 3
   },
   "file_extension": ".py",
   "mimetype": "text/x-python",
   "name": "python",
   "nbconvert_exporter": "python",
   "pygments_lexer": "ipython3",
   "version": "3.6.7"
  },
  "nteract": {
   "version": "0.12.3"
  }
 },
 "nbformat": 4,
 "nbformat_minor": 4
}
